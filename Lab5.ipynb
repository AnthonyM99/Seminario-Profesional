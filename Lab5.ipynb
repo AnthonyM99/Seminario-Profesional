{
  "nbformat": 4,
  "nbformat_minor": 0,
  "metadata": {
    "colab": {
      "name": "Untitled3.ipynb",
      "provenance": [],
      "authorship_tag": "ABX9TyMqwcqGyO3ofkmUb0hsnL4p",
      "include_colab_link": true
    },
    "kernelspec": {
      "name": "python3",
      "display_name": "Python 3"
    }
  },
  "cells": [
    {
      "cell_type": "markdown",
      "metadata": {
        "id": "view-in-github",
        "colab_type": "text"
      },
      "source": [
        "<a href=\"https://colab.research.google.com/github/AnthonyM99/Seminario-Profesional/blob/master/Lab5.ipynb\" target=\"_parent\"><img src=\"https://colab.research.google.com/assets/colab-badge.svg\" alt=\"Open In Colab\"/></a>"
      ]
    },
    {
      "cell_type": "code",
      "metadata": {
        "id": "sQ4rLRDU8CRu",
        "colab_type": "code",
        "outputId": "95595f55-291b-4a4e-a1eb-0f4081e345f2",
        "colab": {
          "base_uri": "https://localhost:8080/",
          "height": 34
        }
      },
      "source": [
        "%tensorflow_version 2.x\n",
        "\n",
        "import tensorflow as tf\n",
        "import tensorflow_hub as hub\n",
        "\n",
        "from tensorflow.keras.preprocessing.text import Tokenizer\n",
        "from tensorflow.keras.preprocessing.sequence import pad_sequences\n",
        "\n",
        "from tensorflow.keras.models import Sequential\n",
        "from tensorflow.keras.layers import Dense, Embedding, Flatten, GlobalAveragePooling1D, Bidirectional, LSTM\n",
        "\n",
        "import numpy as np\n",
        "import pandas as pd\n",
        "import matplotlib.pylab as plt\n",
        "import os, re, json, functools\n",
        "\n",
        "#dark mode\n",
        "plt.rc_context({'xtick.color':'w', 'ytick.color':'w', 'text.color':'w', 'axes.labelcolor':'w'})\n",
        "\n",
        "seed=1234\n",
        "np.random.seed(seed)\n",
        "tf.random.set_seed(seed)"
      ],
      "execution_count": 1,
      "outputs": [
        {
          "output_type": "stream",
          "text": [
            "TensorFlow 2.x selected.\n"
          ],
          "name": "stdout"
        }
      ]
    },
    {
      "cell_type": "code",
      "metadata": {
        "id": "KHIUNpbk8K7v",
        "colab_type": "code",
        "outputId": "d82177d3-446d-4a4e-ee4c-2dd728c8f870",
        "colab": {
          "base_uri": "https://localhost:8080/",
          "height": 224
        }
      },
      "source": [
        "pip install kaggle --upgrade"
      ],
      "execution_count": 2,
      "outputs": [
        {
          "output_type": "stream",
          "text": [
            "Requirement already up-to-date: kaggle in /usr/local/lib/python3.6/dist-packages (1.5.6)\n",
            "Requirement already satisfied, skipping upgrade: tqdm in /usr/local/lib/python3.6/dist-packages (from kaggle) (4.28.1)\n",
            "Requirement already satisfied, skipping upgrade: requests in /tensorflow-2.1.0/python3.6 (from kaggle) (2.22.0)\n",
            "Requirement already satisfied, skipping upgrade: six>=1.10 in /tensorflow-2.1.0/python3.6 (from kaggle) (1.14.0)\n",
            "Requirement already satisfied, skipping upgrade: certifi in /tensorflow-2.1.0/python3.6 (from kaggle) (2019.11.28)\n",
            "Requirement already satisfied, skipping upgrade: python-slugify in /usr/local/lib/python3.6/dist-packages (from kaggle) (4.0.0)\n",
            "Requirement already satisfied, skipping upgrade: python-dateutil in /usr/local/lib/python3.6/dist-packages (from kaggle) (2.6.1)\n",
            "Requirement already satisfied, skipping upgrade: urllib3<1.25,>=1.21.1 in /usr/local/lib/python3.6/dist-packages (from kaggle) (1.24.3)\n",
            "Requirement already satisfied, skipping upgrade: idna<2.9,>=2.5 in /tensorflow-2.1.0/python3.6 (from requests->kaggle) (2.8)\n",
            "Requirement already satisfied, skipping upgrade: chardet<3.1.0,>=3.0.2 in /tensorflow-2.1.0/python3.6 (from requests->kaggle) (3.0.4)\n",
            "Requirement already satisfied, skipping upgrade: text-unidecode>=1.3 in /usr/local/lib/python3.6/dist-packages (from python-slugify->kaggle) (1.3)\n"
          ],
          "name": "stdout"
        }
      ]
    },
    {
      "cell_type": "code",
      "metadata": {
        "id": "brXck-UP8Nn9",
        "colab_type": "code",
        "outputId": "96a6b593-ab3d-42e8-ceb0-1f4a8267bcfc",
        "colab": {
          "base_uri": "https://localhost:8080/",
          "height": 85
        }
      },
      "source": [
        "os.environ['KAGGLE_USERNAME'] = \"anthonymenendez\"\n",
        "os.environ['KAGGLE_KEY'] = \"37d0f4f25110139ce59a572a2c7096b9\"\n",
        "!kaggle datasets download septa97/100k-courseras-course-reviews-dataset\n",
        "!unzip -o '100k-courseras-course-reviews-dataset.zip'"
      ],
      "execution_count": 3,
      "outputs": [
        {
          "output_type": "stream",
          "text": [
            "100k-courseras-course-reviews-dataset.zip: Skipping, found more recently modified local copy (use --force to force download)\n",
            "Archive:  100k-courseras-course-reviews-dataset.zip\n",
            "  inflating: reviews.csv             \n",
            "  inflating: reviews_by_course.csv   \n"
          ],
          "name": "stdout"
        }
      ]
    },
    {
      "cell_type": "code",
      "metadata": {
        "id": "dTdllXNs8Ts6",
        "colab_type": "code",
        "outputId": "15d1d768-7708-489f-8dfe-969bd7dbb040",
        "colab": {
          "base_uri": "https://localhost:8080/",
          "height": 102
        }
      },
      "source": [
        "os.listdir()"
      ],
      "execution_count": 4,
      "outputs": [
        {
          "output_type": "execute_result",
          "data": {
            "text/plain": [
              "['.config',\n",
              " 'reviews.csv',\n",
              " '100k-courseras-course-reviews-dataset.zip',\n",
              " 'reviews_by_course.csv',\n",
              " 'sample_data']"
            ]
          },
          "metadata": {
            "tags": []
          },
          "execution_count": 4
        }
      ]
    },
    {
      "cell_type": "code",
      "metadata": {
        "id": "uMBertLa8VP9",
        "colab_type": "code",
        "outputId": "678f45bf-5143-47cc-f319-5fdea5198c36",
        "colab": {
          "base_uri": "https://localhost:8080/",
          "height": 255
        }
      },
      "source": [
        "Reviews = pd.read_csv('reviews_by_course.csv')\n",
        "Reviews.head"
      ],
      "execution_count": 5,
      "outputs": [
        {
          "output_type": "execute_result",
          "data": {
            "text/plain": [
              "<bound method NDFrame.head of           CourseId                                             Review  Label\n",
              "0       2-speed-it                                             BOring      1\n",
              "1       2-speed-it                                            Bravo !      5\n",
              "2       2-speed-it                                           Very goo      5\n",
              "3       2-speed-it  Great course - I recommend it for all, especia...      5\n",
              "4       2-speed-it    One of the most useful course on IT Management!      5\n",
              "...            ...                                                ...    ...\n",
              "140315        zika  Trendy topic with talks from expertises in the...      4\n",
              "140316        zika  Wonderful! Simple and clear language, good ins...      5\n",
              "140317        zika   an interesting and fun course. thanks. dr quincy      5\n",
              "140318        zika  very broad perspective, up to date information...      4\n",
              "140319        zika  An informative course on the social and financ...      4\n",
              "\n",
              "[140320 rows x 3 columns]>"
            ]
          },
          "metadata": {
            "tags": []
          },
          "execution_count": 5
        }
      ]
    },
    {
      "cell_type": "code",
      "metadata": {
        "id": "r-qAuiSI8W2n",
        "colab_type": "code",
        "outputId": "3c007bce-2dba-4174-f284-ab0ac3e3a436",
        "colab": {
          "base_uri": "https://localhost:8080/",
          "height": 34
        }
      },
      "source": [
        "Reviews.columns"
      ],
      "execution_count": 6,
      "outputs": [
        {
          "output_type": "execute_result",
          "data": {
            "text/plain": [
              "Index(['CourseId', 'Review', 'Label'], dtype='object')"
            ]
          },
          "metadata": {
            "tags": []
          },
          "execution_count": 6
        }
      ]
    },
    {
      "cell_type": "code",
      "metadata": {
        "id": "tvm1E1YE9qGB",
        "colab_type": "code",
        "colab": {}
      },
      "source": [
        "Reviews = Reviews[Reviews['CourseId'] != '0']\n",
        "Reviews = Reviews[~pd.isna(Reviews['Review'])]"
      ],
      "execution_count": 0,
      "outputs": []
    },
    {
      "cell_type": "code",
      "metadata": {
        "id": "BNpO-thI8aUI",
        "colab_type": "code",
        "outputId": "853ee291-8089-4331-b6b2-a71bea8d9b18",
        "colab": {
          "base_uri": "https://localhost:8080/",
          "height": 419
        }
      },
      "source": [
        "dataset = Reviews[['Review', 'Label']] \n",
        "dataset"
      ],
      "execution_count": 8,
      "outputs": [
        {
          "output_type": "execute_result",
          "data": {
            "text/html": [
              "<div>\n",
              "<style scoped>\n",
              "    .dataframe tbody tr th:only-of-type {\n",
              "        vertical-align: middle;\n",
              "    }\n",
              "\n",
              "    .dataframe tbody tr th {\n",
              "        vertical-align: top;\n",
              "    }\n",
              "\n",
              "    .dataframe thead th {\n",
              "        text-align: right;\n",
              "    }\n",
              "</style>\n",
              "<table border=\"1\" class=\"dataframe\">\n",
              "  <thead>\n",
              "    <tr style=\"text-align: right;\">\n",
              "      <th></th>\n",
              "      <th>Review</th>\n",
              "      <th>Label</th>\n",
              "    </tr>\n",
              "  </thead>\n",
              "  <tbody>\n",
              "    <tr>\n",
              "      <th>0</th>\n",
              "      <td>BOring</td>\n",
              "      <td>1</td>\n",
              "    </tr>\n",
              "    <tr>\n",
              "      <th>1</th>\n",
              "      <td>Bravo !</td>\n",
              "      <td>5</td>\n",
              "    </tr>\n",
              "    <tr>\n",
              "      <th>2</th>\n",
              "      <td>Very goo</td>\n",
              "      <td>5</td>\n",
              "    </tr>\n",
              "    <tr>\n",
              "      <th>3</th>\n",
              "      <td>Great course - I recommend it for all, especia...</td>\n",
              "      <td>5</td>\n",
              "    </tr>\n",
              "    <tr>\n",
              "      <th>4</th>\n",
              "      <td>One of the most useful course on IT Management!</td>\n",
              "      <td>5</td>\n",
              "    </tr>\n",
              "    <tr>\n",
              "      <th>...</th>\n",
              "      <td>...</td>\n",
              "      <td>...</td>\n",
              "    </tr>\n",
              "    <tr>\n",
              "      <th>140315</th>\n",
              "      <td>Trendy topic with talks from expertises in the...</td>\n",
              "      <td>4</td>\n",
              "    </tr>\n",
              "    <tr>\n",
              "      <th>140316</th>\n",
              "      <td>Wonderful! Simple and clear language, good ins...</td>\n",
              "      <td>5</td>\n",
              "    </tr>\n",
              "    <tr>\n",
              "      <th>140317</th>\n",
              "      <td>an interesting and fun course. thanks. dr quincy</td>\n",
              "      <td>5</td>\n",
              "    </tr>\n",
              "    <tr>\n",
              "      <th>140318</th>\n",
              "      <td>very broad perspective, up to date information...</td>\n",
              "      <td>4</td>\n",
              "    </tr>\n",
              "    <tr>\n",
              "      <th>140319</th>\n",
              "      <td>An informative course on the social and financ...</td>\n",
              "      <td>4</td>\n",
              "    </tr>\n",
              "  </tbody>\n",
              "</table>\n",
              "<p>140317 rows × 2 columns</p>\n",
              "</div>"
            ],
            "text/plain": [
              "                                                   Review  Label\n",
              "0                                                  BOring      1\n",
              "1                                                 Bravo !      5\n",
              "2                                                Very goo      5\n",
              "3       Great course - I recommend it for all, especia...      5\n",
              "4         One of the most useful course on IT Management!      5\n",
              "...                                                   ...    ...\n",
              "140315  Trendy topic with talks from expertises in the...      4\n",
              "140316  Wonderful! Simple and clear language, good ins...      5\n",
              "140317   an interesting and fun course. thanks. dr quincy      5\n",
              "140318  very broad perspective, up to date information...      4\n",
              "140319  An informative course on the social and financ...      4\n",
              "\n",
              "[140317 rows x 2 columns]"
            ]
          },
          "metadata": {
            "tags": []
          },
          "execution_count": 8
        }
      ]
    },
    {
      "cell_type": "code",
      "metadata": {
        "id": "9s1dN7Xe8i4L",
        "colab_type": "code",
        "colab": {}
      },
      "source": [
        "def preprocess_text(sen):\n",
        "    sentence = re.sub('[^a-zA-Z]', ' ', sen)\n",
        "    sentence = re.sub(r\"\\s+[a-zA-Z]\\s+\", ' ', sentence)\n",
        "    sentence = re.sub(r'\\s+', ' ', sentence)\n",
        "\n",
        "    return sentence"
      ],
      "execution_count": 0,
      "outputs": []
    },
    {
      "cell_type": "code",
      "metadata": {
        "colab_type": "code",
        "id": "r8jOHFI-_h4j",
        "outputId": "68226c35-6e01-4a20-ee76-8c95788c2a74",
        "colab": {
          "base_uri": "https://localhost:8080/",
          "height": 221
        }
      },
      "source": [
        "train_split_processed = dataset['Review'].apply(lambda x: preprocess_text(x))\n",
        "train_split_processed"
      ],
      "execution_count": 10,
      "outputs": [
        {
          "output_type": "execute_result",
          "data": {
            "text/plain": [
              "0                                                    BOring\n",
              "1                                                    Bravo \n",
              "2                                                  Very goo\n",
              "3         Great course recommend it for all especially I...\n",
              "4           One of the most useful course on IT Management \n",
              "                                ...                        \n",
              "140315    Trendy topic with talks from expertises in the...\n",
              "140316    Wonderful Simple and clear language good instr...\n",
              "140317       an interesting and fun course thanks dr quincy\n",
              "140318    very broad perspective up to date information ...\n",
              "140319    An informative course on the social and financ...\n",
              "Name: Review, Length: 140317, dtype: object"
            ]
          },
          "metadata": {
            "tags": []
          },
          "execution_count": 10
        }
      ]
    },
    {
      "cell_type": "code",
      "metadata": {
        "id": "xO_9K8qK92Tm",
        "colab_type": "code",
        "outputId": "ca5d7293-bf0e-45da-d6b5-ed7212f82ee2",
        "colab": {
          "base_uri": "https://localhost:8080/",
          "height": 204
        }
      },
      "source": [
        "dataset[dataset['Label'] != 3]\n",
        "dataset['Positivity'] = np.where(dataset['Label'] > 3, 1, 0)\n",
        "cols = [ 'Label']\n",
        "dataset.drop(cols, axis=1, inplace=True)\n",
        "dataset.head()"
      ],
      "execution_count": 11,
      "outputs": [
        {
          "output_type": "execute_result",
          "data": {
            "text/html": [
              "<div>\n",
              "<style scoped>\n",
              "    .dataframe tbody tr th:only-of-type {\n",
              "        vertical-align: middle;\n",
              "    }\n",
              "\n",
              "    .dataframe tbody tr th {\n",
              "        vertical-align: top;\n",
              "    }\n",
              "\n",
              "    .dataframe thead th {\n",
              "        text-align: right;\n",
              "    }\n",
              "</style>\n",
              "<table border=\"1\" class=\"dataframe\">\n",
              "  <thead>\n",
              "    <tr style=\"text-align: right;\">\n",
              "      <th></th>\n",
              "      <th>Review</th>\n",
              "      <th>Positivity</th>\n",
              "    </tr>\n",
              "  </thead>\n",
              "  <tbody>\n",
              "    <tr>\n",
              "      <th>0</th>\n",
              "      <td>BOring</td>\n",
              "      <td>0</td>\n",
              "    </tr>\n",
              "    <tr>\n",
              "      <th>1</th>\n",
              "      <td>Bravo !</td>\n",
              "      <td>1</td>\n",
              "    </tr>\n",
              "    <tr>\n",
              "      <th>2</th>\n",
              "      <td>Very goo</td>\n",
              "      <td>1</td>\n",
              "    </tr>\n",
              "    <tr>\n",
              "      <th>3</th>\n",
              "      <td>Great course - I recommend it for all, especia...</td>\n",
              "      <td>1</td>\n",
              "    </tr>\n",
              "    <tr>\n",
              "      <th>4</th>\n",
              "      <td>One of the most useful course on IT Management!</td>\n",
              "      <td>1</td>\n",
              "    </tr>\n",
              "  </tbody>\n",
              "</table>\n",
              "</div>"
            ],
            "text/plain": [
              "                                              Review  Positivity\n",
              "0                                             BOring           0\n",
              "1                                            Bravo !           1\n",
              "2                                           Very goo           1\n",
              "3  Great course - I recommend it for all, especia...           1\n",
              "4    One of the most useful course on IT Management!           1"
            ]
          },
          "metadata": {
            "tags": []
          },
          "execution_count": 11
        }
      ]
    },
    {
      "cell_type": "code",
      "metadata": {
        "id": "imYPEZ5QAk3B",
        "colab_type": "code",
        "outputId": "b0096eaf-3885-4993-a160-2249c90caacb",
        "colab": {
          "base_uri": "https://localhost:8080/",
          "height": 204
        }
      },
      "source": [
        "cols = [ 'Review']\n",
        "dataset.drop(cols, axis=1, inplace=True)\n",
        "dataset['Review'] = train_split_processed\n",
        "dataset.head()"
      ],
      "execution_count": 12,
      "outputs": [
        {
          "output_type": "execute_result",
          "data": {
            "text/html": [
              "<div>\n",
              "<style scoped>\n",
              "    .dataframe tbody tr th:only-of-type {\n",
              "        vertical-align: middle;\n",
              "    }\n",
              "\n",
              "    .dataframe tbody tr th {\n",
              "        vertical-align: top;\n",
              "    }\n",
              "\n",
              "    .dataframe thead th {\n",
              "        text-align: right;\n",
              "    }\n",
              "</style>\n",
              "<table border=\"1\" class=\"dataframe\">\n",
              "  <thead>\n",
              "    <tr style=\"text-align: right;\">\n",
              "      <th></th>\n",
              "      <th>Positivity</th>\n",
              "      <th>Review</th>\n",
              "    </tr>\n",
              "  </thead>\n",
              "  <tbody>\n",
              "    <tr>\n",
              "      <th>0</th>\n",
              "      <td>0</td>\n",
              "      <td>BOring</td>\n",
              "    </tr>\n",
              "    <tr>\n",
              "      <th>1</th>\n",
              "      <td>1</td>\n",
              "      <td>Bravo</td>\n",
              "    </tr>\n",
              "    <tr>\n",
              "      <th>2</th>\n",
              "      <td>1</td>\n",
              "      <td>Very goo</td>\n",
              "    </tr>\n",
              "    <tr>\n",
              "      <th>3</th>\n",
              "      <td>1</td>\n",
              "      <td>Great course recommend it for all especially I...</td>\n",
              "    </tr>\n",
              "    <tr>\n",
              "      <th>4</th>\n",
              "      <td>1</td>\n",
              "      <td>One of the most useful course on IT Management</td>\n",
              "    </tr>\n",
              "  </tbody>\n",
              "</table>\n",
              "</div>"
            ],
            "text/plain": [
              "   Positivity                                             Review\n",
              "0           0                                             BOring\n",
              "1           1                                             Bravo \n",
              "2           1                                           Very goo\n",
              "3           1  Great course recommend it for all especially I...\n",
              "4           1    One of the most useful course on IT Management "
            ]
          },
          "metadata": {
            "tags": []
          },
          "execution_count": 12
        }
      ]
    },
    {
      "cell_type": "code",
      "metadata": {
        "id": "dM8B0D1U6EM8",
        "colab_type": "code",
        "colab": {
          "base_uri": "https://localhost:8080/",
          "height": 419
        },
        "outputId": "25681d86-d8d9-45cd-8326-35d962d81741"
      },
      "source": [
        "dataset"
      ],
      "execution_count": 14,
      "outputs": [
        {
          "output_type": "execute_result",
          "data": {
            "text/html": [
              "<div>\n",
              "<style scoped>\n",
              "    .dataframe tbody tr th:only-of-type {\n",
              "        vertical-align: middle;\n",
              "    }\n",
              "\n",
              "    .dataframe tbody tr th {\n",
              "        vertical-align: top;\n",
              "    }\n",
              "\n",
              "    .dataframe thead th {\n",
              "        text-align: right;\n",
              "    }\n",
              "</style>\n",
              "<table border=\"1\" class=\"dataframe\">\n",
              "  <thead>\n",
              "    <tr style=\"text-align: right;\">\n",
              "      <th></th>\n",
              "      <th>Positivity</th>\n",
              "      <th>Review</th>\n",
              "    </tr>\n",
              "  </thead>\n",
              "  <tbody>\n",
              "    <tr>\n",
              "      <th>0</th>\n",
              "      <td>0</td>\n",
              "      <td>BOring</td>\n",
              "    </tr>\n",
              "    <tr>\n",
              "      <th>1</th>\n",
              "      <td>1</td>\n",
              "      <td>Bravo</td>\n",
              "    </tr>\n",
              "    <tr>\n",
              "      <th>2</th>\n",
              "      <td>1</td>\n",
              "      <td>Very goo</td>\n",
              "    </tr>\n",
              "    <tr>\n",
              "      <th>3</th>\n",
              "      <td>1</td>\n",
              "      <td>Great course recommend it for all especially I...</td>\n",
              "    </tr>\n",
              "    <tr>\n",
              "      <th>4</th>\n",
              "      <td>1</td>\n",
              "      <td>One of the most useful course on IT Management</td>\n",
              "    </tr>\n",
              "    <tr>\n",
              "      <th>...</th>\n",
              "      <td>...</td>\n",
              "      <td>...</td>\n",
              "    </tr>\n",
              "    <tr>\n",
              "      <th>140315</th>\n",
              "      <td>1</td>\n",
              "      <td>Trendy topic with talks from expertises in the...</td>\n",
              "    </tr>\n",
              "    <tr>\n",
              "      <th>140316</th>\n",
              "      <td>1</td>\n",
              "      <td>Wonderful Simple and clear language good instr...</td>\n",
              "    </tr>\n",
              "    <tr>\n",
              "      <th>140317</th>\n",
              "      <td>1</td>\n",
              "      <td>an interesting and fun course thanks dr quincy</td>\n",
              "    </tr>\n",
              "    <tr>\n",
              "      <th>140318</th>\n",
              "      <td>1</td>\n",
              "      <td>very broad perspective up to date information ...</td>\n",
              "    </tr>\n",
              "    <tr>\n",
              "      <th>140319</th>\n",
              "      <td>1</td>\n",
              "      <td>An informative course on the social and financ...</td>\n",
              "    </tr>\n",
              "  </tbody>\n",
              "</table>\n",
              "<p>140317 rows × 2 columns</p>\n",
              "</div>"
            ],
            "text/plain": [
              "        Positivity                                             Review\n",
              "0                0                                             BOring\n",
              "1                1                                             Bravo \n",
              "2                1                                           Very goo\n",
              "3                1  Great course recommend it for all especially I...\n",
              "4                1    One of the most useful course on IT Management \n",
              "...            ...                                                ...\n",
              "140315           1  Trendy topic with talks from expertises in the...\n",
              "140316           1  Wonderful Simple and clear language good instr...\n",
              "140317           1     an interesting and fun course thanks dr quincy\n",
              "140318           1  very broad perspective up to date information ...\n",
              "140319           1  An informative course on the social and financ...\n",
              "\n",
              "[140317 rows x 2 columns]"
            ]
          },
          "metadata": {
            "tags": []
          },
          "execution_count": 14
        }
      ]
    },
    {
      "cell_type": "code",
      "metadata": {
        "id": "4PhjvYNrCfA5",
        "colab_type": "code",
        "outputId": "fe5cc12b-f9a6-433b-861f-1aed5fb42561",
        "colab": {
          "base_uri": "https://localhost:8080/",
          "height": 34
        }
      },
      "source": [
        "dataset.shape"
      ],
      "execution_count": 13,
      "outputs": [
        {
          "output_type": "execute_result",
          "data": {
            "text/plain": [
              "(140317, 2)"
            ]
          },
          "metadata": {
            "tags": []
          },
          "execution_count": 13
        }
      ]
    },
    {
      "cell_type": "code",
      "metadata": {
        "id": "7JTmY6F6FZjq",
        "colab_type": "code",
        "outputId": "348b940e-9bd9-441a-edd6-1f608d686ea6",
        "colab": {
          "base_uri": "https://localhost:8080/",
          "height": 34
        }
      },
      "source": [
        "train_split = dataset.sample(frac = 0.7,random_state=42)\n",
        "test_split = dataset.drop(train_split.index).sample(frac = 0.5)\n",
        "validation_split = dataset.drop(train_split.index).drop(test_split.index)\n",
        "train_split.shape, test_split.shape, validation_split.shape"
      ],
      "execution_count": 15,
      "outputs": [
        {
          "output_type": "execute_result",
          "data": {
            "text/plain": [
              "((98222, 2), (21048, 2), (21047, 2))"
            ]
          },
          "metadata": {
            "tags": []
          },
          "execution_count": 15
        }
      ]
    },
    {
      "cell_type": "code",
      "metadata": {
        "id": "3isJzFAmsXae",
        "colab_type": "code",
        "outputId": "75467e52-2699-4fc9-db89-21e5dc83263b",
        "colab": {
          "base_uri": "https://localhost:8080/",
          "height": 68
        }
      },
      "source": [
        "train_split.dtypes"
      ],
      "execution_count": 15,
      "outputs": [
        {
          "output_type": "execute_result",
          "data": {
            "text/plain": [
              "Positivity     int64\n",
              "Review        object\n",
              "dtype: object"
            ]
          },
          "metadata": {
            "tags": []
          },
          "execution_count": 15
        }
      ]
    },
    {
      "cell_type": "code",
      "metadata": {
        "id": "R22fTnRvCwN_",
        "colab_type": "code",
        "outputId": "cefbbdae-d23a-494f-fde1-26c2a251f31b",
        "colab": {
          "base_uri": "https://localhost:8080/",
          "height": 34
        }
      },
      "source": [
        "max_len = train_split['Review'].map(lambda x: len(x)).max()\n",
        "max_len"
      ],
      "execution_count": 18,
      "outputs": [
        {
          "output_type": "execute_result",
          "data": {
            "text/plain": [
              "7471"
            ]
          },
          "metadata": {
            "tags": []
          },
          "execution_count": 18
        }
      ]
    },
    {
      "cell_type": "code",
      "metadata": {
        "id": "sNNTQE9GF4Pc",
        "colab_type": "code",
        "outputId": "ba0e46f4-f376-4a73-e989-cbf80329dad3",
        "colab": {
          "base_uri": "https://localhost:8080/",
          "height": 34
        }
      },
      "source": [
        "tokenizer = Tokenizer()\n",
        "tokenizer.fit_on_texts(train_split['Review'])\n",
        "train_sequences = tokenizer.texts_to_sequences(train_split['Review'])\n",
        "train_data = pad_sequences(train_sequences, maxlen=max_len, padding='pre')\n",
        "\n",
        "test_sequences = tokenizer.texts_to_sequences(test_split['Review'])\n",
        "test_data  = pad_sequences(test_sequences, maxlen=max_len, padding='pre')\n",
        "\n",
        "validation_sequences = tokenizer.texts_to_sequences(validation_split['Review'])\n",
        "validation_data  = pad_sequences(validation_sequences, maxlen=max_len, padding='pre')\n",
        "\n",
        "train_data.shape, test_data.shape, validation_data.shape"
      ],
      "execution_count": 24,
      "outputs": [
        {
          "output_type": "execute_result",
          "data": {
            "text/plain": [
              "((98222, 7471), (21048, 7471), (21047, 7471))"
            ]
          },
          "metadata": {
            "tags": []
          },
          "execution_count": 24
        }
      ]
    },
    {
      "cell_type": "code",
      "metadata": {
        "id": "ALT41d_uMMPa",
        "colab_type": "code",
        "outputId": "81ac0d12-2c10-4563-b14a-8f6baaf40591",
        "colab": {
          "base_uri": "https://localhost:8080/",
          "height": 34
        }
      },
      "source": [
        "train_data.dtype, test_data.dtype, validation_data.dtype"
      ],
      "execution_count": 27,
      "outputs": [
        {
          "output_type": "execute_result",
          "data": {
            "text/plain": [
              "(dtype('int32'), dtype('int32'), dtype('int32'))"
            ]
          },
          "metadata": {
            "tags": []
          },
          "execution_count": 27
        }
      ]
    },
    {
      "cell_type": "code",
      "metadata": {
        "id": "nDLREo72Heua",
        "colab_type": "code",
        "outputId": "e2034f67-088f-4877-8f39-b2a34e5996f9",
        "colab": {
          "base_uri": "https://localhost:8080/",
          "height": 34
        }
      },
      "source": [
        "train_labels = train_split['Positivity']\n",
        "test_labels = test_split['Positivity']\n",
        "validation_labels = validation_split['Positivity']\n",
        "train_labels.shape, test_labels.shape, validation_labels.shape"
      ],
      "execution_count": 28,
      "outputs": [
        {
          "output_type": "execute_result",
          "data": {
            "text/plain": [
              "((98222,), (21048,), (21047,))"
            ]
          },
          "metadata": {
            "tags": []
          },
          "execution_count": 28
        }
      ]
    },
    {
      "cell_type": "code",
      "metadata": {
        "id": "bYy2_UbvMSjb",
        "colab_type": "code",
        "outputId": "7950cd44-f8ce-400c-a219-3d1fcbdf73aa",
        "colab": {
          "base_uri": "https://localhost:8080/",
          "height": 34
        }
      },
      "source": [
        "train_labels.dtype, test_labels.dtype, validation_labels.dtype"
      ],
      "execution_count": 29,
      "outputs": [
        {
          "output_type": "execute_result",
          "data": {
            "text/plain": [
              "(dtype('int64'), dtype('int64'), dtype('int64'))"
            ]
          },
          "metadata": {
            "tags": []
          },
          "execution_count": 29
        }
      ]
    },
    {
      "cell_type": "code",
      "metadata": {
        "id": "CcQM2E8lENS9",
        "colab_type": "code",
        "outputId": "88b5a30d-2411-44ce-81c2-f173eef003f1",
        "colab": {
          "base_uri": "https://localhost:8080/",
          "height": 34
        }
      },
      "source": [
        "train_Label = pd.get_dummies(train_labels).values\n",
        "test_Label = pd.get_dummies(test_labels).values\n",
        "validation_Label = pd.get_dummies(validation_labels).values\n",
        "\n",
        "train_Label.shape,test_Label.shape,validation_Label.shape"
      ],
      "execution_count": 30,
      "outputs": [
        {
          "output_type": "execute_result",
          "data": {
            "text/plain": [
              "((98222, 2), (21048, 2), (21047, 2))"
            ]
          },
          "metadata": {
            "tags": []
          },
          "execution_count": 30
        }
      ]
    },
    {
      "cell_type": "code",
      "metadata": {
        "id": "PPw6npmkIOCQ",
        "colab_type": "code",
        "outputId": "f9077d3f-4337-4340-b43a-77e3f544584f",
        "colab": {
          "base_uri": "https://localhost:8080/",
          "height": 51
        }
      },
      "source": [
        "print(train_data.shape,train_Label.shape)\n",
        "print(test_data.shape,test_Label.shape)"
      ],
      "execution_count": 31,
      "outputs": [
        {
          "output_type": "stream",
          "text": [
            "(98222, 7471) (98222, 2)\n",
            "(21048, 7471) (21048, 2)\n"
          ],
          "name": "stdout"
        }
      ]
    },
    {
      "cell_type": "code",
      "metadata": {
        "id": "w96XZ7mSIg5r",
        "colab_type": "code",
        "outputId": "509ceac2-868f-4edc-fbf0-8300f7d755d9",
        "colab": {
          "base_uri": "https://localhost:8080/",
          "height": 255
        }
      },
      "source": [
        "model = Sequential([\n",
        "    Embedding(98222, 32, input_length = 7471),\n",
        "    Bidirectional(LSTM(32)),\n",
        "    Dense(2, activation='sigmoid')\n",
        "])\n",
        "\n",
        "model.summary()\n"
      ],
      "execution_count": 33,
      "outputs": [
        {
          "output_type": "stream",
          "text": [
            "Model: \"sequential_1\"\n",
            "_________________________________________________________________\n",
            "Layer (type)                 Output Shape              Param #   \n",
            "=================================================================\n",
            "embedding_1 (Embedding)      (None, 7471, 32)          3143104   \n",
            "_________________________________________________________________\n",
            "bidirectional_1 (Bidirection (None, 64)                16640     \n",
            "_________________________________________________________________\n",
            "dense_1 (Dense)              (None, 2)                 130       \n",
            "=================================================================\n",
            "Total params: 3,159,874\n",
            "Trainable params: 3,159,874\n",
            "Non-trainable params: 0\n",
            "_________________________________________________________________\n"
          ],
          "name": "stdout"
        }
      ]
    },
    {
      "cell_type": "code",
      "metadata": {
        "id": "kRDHzd7CJM27",
        "colab_type": "code",
        "colab": {}
      },
      "source": [
        "model.compile(loss='binary_crossentropy',\n",
        "              optimizer='adam',\n",
        "              metrics=['accuracy'])"
      ],
      "execution_count": 0,
      "outputs": []
    },
    {
      "cell_type": "code",
      "metadata": {
        "id": "dq7Yi55DJWMs",
        "colab_type": "code",
        "outputId": "f04d1765-45a1-4022-ac80-7b4c467c5865",
        "colab": {
          "base_uri": "https://localhost:8080/",
          "height": 51
        }
      },
      "source": [
        "history = model.fit(train_data, train_Label, epochs=4,\n",
        "                      steps_per_epoch=2\n",
        "                      )"
      ],
      "execution_count": 0,
      "outputs": [
        {
          "output_type": "stream",
          "text": [
            "Train on 98222 samples\n",
            "Epoch 1/4\n"
          ],
          "name": "stdout"
        }
      ]
    },
    {
      "cell_type": "code",
      "metadata": {
        "id": "KPziWWUT5dyY",
        "colab_type": "code",
        "colab": {}
      },
      "source": [
        "acc = history.history['accuracy']\n",
        "val_acc = history.history['val_accuracy']\n",
        "\n",
        "loss = history.history['loss']\n",
        "val_loss = history.history['val_loss']\n",
        "\n",
        "plt.figure(figsize=(8, 8))\n",
        "plt.subplot(2, 1, 1)\n",
        "plt.plot(acc, label='Training Accuracy')\n",
        "plt.plot(val_acc, label='Validation Accuracy')\n",
        "plt.legend(loc='lower right')\n",
        "plt.ylabel('Accuracy')\n",
        "plt.ylim([min(plt.ylim()),1])\n",
        "plt.title('Training and Validation Accuracy')\n",
        "\n",
        "plt.subplot(2, 1, 2)\n",
        "plt.plot(loss, label='Training Loss')\n",
        "plt.plot(val_loss, label='Validation Loss')\n",
        "plt.legend(loc='upper right')\n",
        "plt.ylabel('Cross Entropy')\n",
        "plt.ylim([0,0.8])\n",
        "plt.title('Training and Validation Loss')\n",
        "plt.xlabel('epoch')\n",
        "plt.show()"
      ],
      "execution_count": 0,
      "outputs": []
    }
  ]
}