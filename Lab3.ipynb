{
  "nbformat": 4,
  "nbformat_minor": 0,
  "metadata": {
    "colab": {
      "name": "Untitled1.ipynb",
      "provenance": [],
      "authorship_tag": "ABX9TyMGqOtxpJhDHojMRojLvkCA",
      "include_colab_link": true
    },
    "kernelspec": {
      "name": "python3",
      "display_name": "Python 3"
    }
  },
  "cells": [
    {
      "cell_type": "markdown",
      "metadata": {
        "id": "view-in-github",
        "colab_type": "text"
      },
      "source": [
        "<a href=\"https://colab.research.google.com/github/AnthonyM99/Seminario-Profesional/blob/master/Lab3.ipynb\" target=\"_parent\"><img src=\"https://colab.research.google.com/assets/colab-badge.svg\" alt=\"Open In Colab\"/></a>"
      ]
    },
    {
      "cell_type": "code",
      "metadata": {
        "id": "sE3KiPU4jJf9",
        "colab_type": "code",
        "colab": {}
      },
      "source": [
        "%tensorflow_version 2.x\n",
        "\n",
        "import tensorflow as tf\n",
        "import tensorflow_hub as hub\n",
        "\n",
        "from tensorflow.keras.datasets import imdb\n",
        "from tensorflow.keras.models import Sequential\n",
        "from tensorflow.keras.layers import Dense, Flatten\n",
        "from tensorflow.keras.preprocessing.sequence import pad_sequences\n",
        "\n",
        "import string\n",
        "import numpy as np\n",
        "import matplotlib.pylab as plt\n",
        "\n",
        "#dark mode\n",
        "plt.rc_context({'xtick.color':'w', 'ytick.color':'w', 'text.color':'w', 'axes.labelcolor':'w'})\n",
        "\n",
        "seed=1234\n",
        "np.random.seed(seed)\n",
        "tf.random.set_seed(seed)"
      ],
      "execution_count": 0,
      "outputs": []
    },
    {
      "cell_type": "code",
      "metadata": {
        "id": "1fC1tds2jLw_",
        "colab_type": "code",
        "colab": {}
      },
      "source": [
        "max_features = 10000\n",
        "(train_data, train_labels), (test_data, test_labels) = imdb.load_data(num_words=max_features)\n",
        "\n",
        "class_names = ['(Bad)','(Good)']\n",
        "num_classes = 2\n",
        "\n",
        "max_len = 8000\n",
        "train_data = pad_sequences(train_data, maxlen=max_len)\n",
        "test_data = pad_sequences(test_data, maxlen=max_len)"
      ],
      "execution_count": 0,
      "outputs": []
    },
    {
      "cell_type": "code",
      "metadata": {
        "id": "RhdIeerNjUnd",
        "colab_type": "code",
        "colab": {
          "base_uri": "https://localhost:8080/",
          "height": 323
        },
        "outputId": "8ab08590-7cf0-408e-c353-24481b9638ed"
      },
      "source": [
        "model = Sequential([\n",
        "    Flatten(input_shape=(max_len, )),\n",
        "    Dense(1024, activation='relu'),\n",
        "    Dense(512, activation='relu'),\n",
        "    Dense(256, activation='relu'),\n",
        "    Dense(1, activation='sigmoid'),\n",
        "])\n",
        "\n",
        "model.summary()"
      ],
      "execution_count": 63,
      "outputs": [
        {
          "output_type": "stream",
          "text": [
            "Model: \"sequential_4\"\n",
            "_________________________________________________________________\n",
            "Layer (type)                 Output Shape              Param #   \n",
            "=================================================================\n",
            "flatten_4 (Flatten)          (None, 8000)              0         \n",
            "_________________________________________________________________\n",
            "dense_16 (Dense)             (None, 1024)              8193024   \n",
            "_________________________________________________________________\n",
            "dense_17 (Dense)             (None, 512)               524800    \n",
            "_________________________________________________________________\n",
            "dense_18 (Dense)             (None, 256)               131328    \n",
            "_________________________________________________________________\n",
            "dense_19 (Dense)             (None, 1)                 257       \n",
            "=================================================================\n",
            "Total params: 8,849,409\n",
            "Trainable params: 8,849,409\n",
            "Non-trainable params: 0\n",
            "_________________________________________________________________\n"
          ],
          "name": "stdout"
        }
      ]
    },
    {
      "cell_type": "code",
      "metadata": {
        "id": "2dIfYG5NjWYT",
        "colab_type": "code",
        "colab": {}
      },
      "source": [
        "model.compile(optimizer='adam',\n",
        "              loss='binary_crossentropy',\n",
        "              metrics=['accuracy'])"
      ],
      "execution_count": 0,
      "outputs": []
    },
    {
      "cell_type": "code",
      "metadata": {
        "id": "QKDFInxJjYbh",
        "colab_type": "code",
        "colab": {
          "base_uri": "https://localhost:8080/",
          "height": 224
        },
        "outputId": "4a088eb3-49ee-4d26-c9bd-db42f98f655f"
      },
      "source": [
        "history = model.fit(train_data, \n",
        "          train_labels, \n",
        "          validation_split=0.3,\n",
        "          batch_size=128,\n",
        "          epochs=5\n",
        "          )   "
      ],
      "execution_count": 65,
      "outputs": [
        {
          "output_type": "stream",
          "text": [
            "Train on 17500 samples, validate on 7500 samples\n",
            "Epoch 1/5\n",
            "17500/17500 [==============================] - 19s 1ms/sample - loss: 27.1995 - accuracy: 0.4982 - val_loss: 1.9072 - val_accuracy: 0.5039\n",
            "Epoch 2/5\n",
            "17500/17500 [==============================] - 18s 1ms/sample - loss: 1.1219 - accuracy: 0.6170 - val_loss: 1.4254 - val_accuracy: 0.5155\n",
            "Epoch 3/5\n",
            "17500/17500 [==============================] - 18s 1ms/sample - loss: 0.5423 - accuracy: 0.7575 - val_loss: 1.4233 - val_accuracy: 0.5091\n",
            "Epoch 4/5\n",
            "17500/17500 [==============================] - 18s 1ms/sample - loss: 0.2893 - accuracy: 0.8790 - val_loss: 1.5512 - val_accuracy: 0.5063\n",
            "Epoch 5/5\n",
            "17500/17500 [==============================] - 18s 1ms/sample - loss: 0.1588 - accuracy: 0.9506 - val_loss: 1.6966 - val_accuracy: 0.5019\n"
          ],
          "name": "stdout"
        }
      ]
    },
    {
      "cell_type": "code",
      "metadata": {
        "colab_type": "code",
        "outputId": "ea94707f-b630-444e-c36e-f2890738ce75",
        "id": "WtQZytdmp4bk",
        "colab": {
          "base_uri": "https://localhost:8080/",
          "height": 621
        }
      },
      "source": [
        "acc = history.history['accuracy']\n",
        "val_acc = history.history['val_accuracy']\n",
        "\n",
        "loss = history.history['loss']\n",
        "val_loss = history.history['val_loss']\n",
        "\n",
        "plt.figure(figsize=(10, 10))\n",
        "plt.subplot(2, 1, 1)\n",
        "plt.plot(acc, label='Training Accuracy')\n",
        "plt.plot(val_acc, label='Validation Accuracy')\n",
        "plt.legend(loc='lower right')\n",
        "plt.setp(plt.legend().get_texts(), color='black')\n",
        "plt.ylabel('Accuracy')\n",
        "plt.ylim([min(plt.ylim()),1.0])\n",
        "plt.title('Training and Validation Accuracy')\n",
        "\n",
        "plt.subplot(2, 1, 2)\n",
        "plt.plot(loss, label='Training Loss')\n",
        "plt.plot(val_loss, label='Validation Loss')\n",
        "plt.legend(loc='upper right')\n",
        "plt.setp(plt.legend().get_texts(), color='black')\n",
        "plt.ylabel('Cross Entropy')\n",
        "plt.ylim([0.0,3.5])\n",
        "plt.title('Training and Validation Loss')\n",
        "plt.xlabel('epoch')\n",
        "plt.show()"
      ],
      "execution_count": 66,
      "outputs": [
        {
          "output_type": "display_data",
          "data": {
            "image/png": "[encoded data removed]",
            "text/plain": [
              "<Figure size 720x720 with 2 Axes>"
            ]
          },
          "metadata": {
            "tags": []
          }
        }
      ]
    },
    {
      "cell_type": "code",
      "metadata": {
        "id": "bRVcwTGrpcBo",
        "colab_type": "code",
        "colab": {
          "base_uri": "https://localhost:8080/",
          "height": 71
        },
        "outputId": "7f232305-31e7-4e96-ba37-f4e51d5925a8"
      },
      "source": [
        "index = imdb.get_word_index()\n",
        "reverse_index = dict([(value, key) for (key, value) in index.items()]) \n",
        "input_text = \"Wow how disappointing dont buy this until they get this improved, older version of this is better in my opinion. The newer version gave me 8+ crashes of system and game crashes leading up to finally unable to play this system having to return this system ,what a horrible experience this was. Being a big Nintendo switch player what a great disappointment this was. Hopefully they improve this newer version system to where this does not happen again or to someone else.\"\n",
        "\n",
        "input_text = (input_text.translate(str.maketrans('', '', string.punctuation))).lower()\n",
        "encoded = np.array(list(map(lambda w: index.get(w,max_features), input_text.split(' '))))\n",
        "encoded = encoded[encoded < max_features]\n",
        "decoded = \" \".join([reverse_index.get(i, \"\") for i in encoded])\n",
        "\n",
        "encoded = pad_sequences([encoded], maxlen=max_len).flatten()\n",
        "prediction = model.predict(tf.expand_dims(encoded, axis=0))\n",
        "\n",
        "print(decoded)\n",
        "print('Predicted class is:', np.array(class_names)[np.rint(prediction).astype('int32')])"
      ],
      "execution_count": 67,
      "outputs": [
        {
          "output_type": "stream",
          "text": [
            "wow how disappointing dont buy this until they get this improved older version of this is better in my opinion the newer version gave me 8 crashes of system and game crashes leading up to finally unable to play this system having to return this system what a horrible experience this was being a big switch player what a great disappointment this was hopefully they improve this newer version system to where this does not happen again or to someone else\n",
            "Predicted class is: [['(Bad)']]\n"
          ],
          "name": "stdout"
        }
      ]
    }
  ]
}